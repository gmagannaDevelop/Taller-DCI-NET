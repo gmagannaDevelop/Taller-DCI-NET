{
  "nbformat": 4,
  "nbformat_minor": 0,
  "metadata": {
    "kernelspec": {
      "display_name": "Python 3",
      "language": "python",
      "name": "python3"
    },
    "language_info": {
      "codemirror_mode": {
        "name": "ipython",
        "version": 3
      },
      "file_extension": ".py",
      "mimetype": "text/x-python",
      "name": "python",
      "nbconvert_exporter": "python",
      "pygments_lexer": "ipython3",
      "version": "3.7.4"
    },
    "colab": {
      "name": "Ejercicios_funcionales.ipynb",
      "provenance": [],
      "collapsed_sections": [],
      "include_colab_link": true
    }
  },
  "cells": [
    {
      "cell_type": "markdown",
      "metadata": {
        "id": "view-in-github",
        "colab_type": "text"
      },
      "source": [
        "<a href=\"https://colab.research.google.com/github/gmagannaDevelop/Taller-DCI-NET/blob/master/Ejercicios_funcionales.ipynb\" target=\"_parent\"><img src=\"https://colab.research.google.com/assets/colab-badge.svg\" alt=\"Open In Colab\"/></a>"
      ]
    },
    {
      "cell_type": "markdown",
      "metadata": {
        "id": "_mImdQuT4RKM",
        "colab_type": "text"
      },
      "source": [
        "# Programación funcional en Python"
      ]
    },
    {
      "cell_type": "markdown",
      "metadata": {
        "id": "1i-VJdwZ4RKY",
        "colab_type": "text"
      },
      "source": [
        "Veamos a nuestros nuevos amigos. He aquí una lista con una descripción increíblemente útil. Posteriormente los veremos en acción.\n",
        "\n",
        "1. ```lambda``` : Declarar una función anónima.\n",
        "2. ```map``` : Mapear, se especifica primero la función y después el objeto.\n",
        "3. ```filter``` : Filtrar para mantener elementos que cumplan con un criterio.\n",
        "4. ```reduce``` : Aplicar una función cumulativa.\n"
      ]
    },
    {
      "cell_type": "code",
      "metadata": {
        "id": "S3odTxtV4RKi",
        "colab_type": "code",
        "colab": {}
      },
      "source": [
        "from functools import reduce"
      ],
      "execution_count": 0,
      "outputs": []
    },
    {
      "cell_type": "markdown",
      "metadata": {
        "id": "ggs8Ewfl4RLR",
        "colab_type": "text"
      },
      "source": [
        "La función reduce no es parte del espacio de nombres por defecto, por decisión del creador de Python : [Guido](https://github.com/gvanrossum). Por eso debemos importarla del módulo de herramientas para programación funcional functools."
      ]
    },
    {
      "cell_type": "code",
      "metadata": {
        "id": "r6MxZl9Q4RLX",
        "colab_type": "code",
        "colab": {}
      },
      "source": [
        "import numpy as np\n",
        "import seaborn as sns\n",
        "import pandas as pd"
      ],
      "execution_count": 0,
      "outputs": []
    },
    {
      "cell_type": "markdown",
      "metadata": {
        "id": "ryvnf3n44RLt",
        "colab_type": "text"
      },
      "source": [
        "## Funciones anónimas"
      ]
    },
    {
      "cell_type": "markdown",
      "metadata": {
        "id": "SjBZbzV84RLy",
        "colab_type": "text"
      },
      "source": [
        "**Utilidad** : Digamos que queremos calcular algo rápidamente, pero no queremos guardar una función que lo haga. Tal vez es una operación que se hará sólo una vez y no queremos \"ocupar ese nombre\", ahí usamos una función anónima o expresión lambda.\n",
        "\n",
        "1. **Sintaxis** : "
      ]
    },
    {
      "cell_type": "markdown",
      "metadata": {
        "id": "YTEny7of4RL3",
        "colab_type": "text"
      },
      "source": [
        "$$ f(x) \\; = \\; x $$"
      ]
    },
    {
      "cell_type": "code",
      "metadata": {
        "id": "xMxQwcf74RL7",
        "colab_type": "code",
        "outputId": "1ab3ecd8-366f-49a8-a512-4b84217d9577",
        "colab": {
          "base_uri": "https://localhost:8080/",
          "height": 34
        }
      },
      "source": [
        "lambda x: x"
      ],
      "execution_count": 3,
      "outputs": [
        {
          "output_type": "execute_result",
          "data": {
            "text/plain": [
              "<function __main__.<lambda>>"
            ]
          },
          "metadata": {
            "tags": []
          },
          "execution_count": 3
        }
      ]
    },
    {
      "cell_type": "markdown",
      "metadata": {
        "id": "MxBI9ItI4RMN",
        "colab_type": "text"
      },
      "source": [
        "Ahora con varios argumentos : \n",
        "    $$ f(x,y,x) \\; = \\; x\\cdot y\\cdot z $$"
      ]
    },
    {
      "cell_type": "code",
      "metadata": {
        "id": "vrwRjPiH4RMU",
        "colab_type": "code",
        "outputId": "1568fa49-df6d-41c7-8b37-be440e4eec01",
        "colab": {
          "base_uri": "https://localhost:8080/",
          "height": 34
        }
      },
      "source": [
        "lambda x, y, z: x*y*z"
      ],
      "execution_count": 4,
      "outputs": [
        {
          "output_type": "execute_result",
          "data": {
            "text/plain": [
              "<function __main__.<lambda>>"
            ]
          },
          "metadata": {
            "tags": []
          },
          "execution_count": 4
        }
      ]
    },
    {
      "cell_type": "markdown",
      "metadata": {
        "id": "nStSRXvV4RMf",
        "colab_type": "text"
      },
      "source": [
        "2. **Evaluación**\n",
        "\n",
        "$$  f(x) = x^{x}\\vert_{3} = 27 $$"
      ]
    },
    {
      "cell_type": "code",
      "metadata": {
        "id": "-abJOQBs4RMj",
        "colab_type": "code",
        "outputId": "572f2689-f239-4992-fd2b-cc7047ad13ad",
        "colab": {
          "base_uri": "https://localhost:8080/",
          "height": 34
        }
      },
      "source": [
        "(lambda x: x**x)(3)"
      ],
      "execution_count": 5,
      "outputs": [
        {
          "output_type": "execute_result",
          "data": {
            "text/plain": [
              "27"
            ]
          },
          "metadata": {
            "tags": []
          },
          "execution_count": 5
        }
      ]
    },
    {
      "cell_type": "markdown",
      "metadata": {
        "id": "drxxpvR64RNA",
        "colab_type": "text"
      },
      "source": [
        "Está muy bien eso de que sean anónimas pero, ¿y si yo quisiera guardar mi función?"
      ]
    },
    {
      "cell_type": "markdown",
      "metadata": {
        "id": "-5i_dCbR4RNI",
        "colab_type": "text"
      },
      "source": [
        "3. **Asignación**"
      ]
    },
    {
      "cell_type": "code",
      "metadata": {
        "id": "sMR1ni6Q4RNM",
        "colab_type": "code",
        "colab": {}
      },
      "source": [
        "cuadrado = lambda x: x**2"
      ],
      "execution_count": 0,
      "outputs": []
    },
    {
      "cell_type": "code",
      "metadata": {
        "id": "lBPKAZHw4RNX",
        "colab_type": "code",
        "outputId": "add0f3a5-8501-4369-e7e5-1d4c76f2158b",
        "colab": {
          "base_uri": "https://localhost:8080/",
          "height": 34
        }
      },
      "source": [
        "cuadrado(3)"
      ],
      "execution_count": 7,
      "outputs": [
        {
          "output_type": "execute_result",
          "data": {
            "text/plain": [
              "9"
            ]
          },
          "metadata": {
            "tags": []
          },
          "execution_count": 7
        }
      ]
    },
    {
      "cell_type": "markdown",
      "metadata": {
        "id": "ikAHvjiQ4RNn",
        "colab_type": "text"
      },
      "source": [
        "4. Funciones de orden superior"
      ]
    },
    {
      "cell_type": "code",
      "metadata": {
        "id": "pQd0Y20r4RNt",
        "colab_type": "code",
        "colab": {}
      },
      "source": [
        "aplica_función = lambda x, y: x(y)"
      ],
      "execution_count": 0,
      "outputs": []
    },
    {
      "cell_type": "code",
      "metadata": {
        "id": "9d1NFLXr4RN8",
        "colab_type": "code",
        "outputId": "3b7d170e-3e33-487b-b3bc-f55c511c22ec",
        "colab": {
          "base_uri": "https://localhost:8080/",
          "height": 34
        }
      },
      "source": [
        "aplica_función(cuadrado, 3)"
      ],
      "execution_count": 9,
      "outputs": [
        {
          "output_type": "execute_result",
          "data": {
            "text/plain": [
              "9"
            ]
          },
          "metadata": {
            "tags": []
          },
          "execution_count": 9
        }
      ]
    },
    {
      "cell_type": "markdown",
      "metadata": {
        "id": "U2VJN4YW4ROM",
        "colab_type": "text"
      },
      "source": [
        "5. **Condicionales**\n",
        "\n",
        "Digamos que quisiésemos saber si un valor es positivo."
      ]
    },
    {
      "cell_type": "code",
      "metadata": {
        "id": "Gp6vJaww4ROS",
        "colab_type": "code",
        "colab": {}
      },
      "source": [
        "es_positivo = lambda x: True if x > 0 else False"
      ],
      "execution_count": 0,
      "outputs": []
    },
    {
      "cell_type": "code",
      "metadata": {
        "id": "A4dN6sYD4ROi",
        "colab_type": "code",
        "outputId": "7f7f9b5c-506f-4378-8438-91ca61419966",
        "colab": {
          "base_uri": "https://localhost:8080/",
          "height": 34
        }
      },
      "source": [
        "es_positivo(3)"
      ],
      "execution_count": 11,
      "outputs": [
        {
          "output_type": "execute_result",
          "data": {
            "text/plain": [
              "True"
            ]
          },
          "metadata": {
            "tags": []
          },
          "execution_count": 11
        }
      ]
    },
    {
      "cell_type": "code",
      "metadata": {
        "id": "UtrV92Nm4RO1",
        "colab_type": "code",
        "outputId": "20484a58-1030-4004-c956-ffcbaad5d01a",
        "colab": {
          "base_uri": "https://localhost:8080/",
          "height": 34
        }
      },
      "source": [
        "es_positivo(-np.pi)"
      ],
      "execution_count": 12,
      "outputs": [
        {
          "output_type": "execute_result",
          "data": {
            "text/plain": [
              "False"
            ]
          },
          "metadata": {
            "tags": []
          },
          "execution_count": 12
        }
      ]
    },
    {
      "cell_type": "markdown",
      "metadata": {
        "id": "qG3Ly8mL4RPB",
        "colab_type": "text"
      },
      "source": [
        "## Mapear"
      ]
    },
    {
      "cell_type": "markdown",
      "metadata": {
        "id": "DRWSBarg4RPE",
        "colab_type": "text"
      },
      "source": [
        "Hay diversas formas de llevar a cabo la misma operación. A continuación las abordaremos, pasando por clásicos hasta la forma funcional.\n",
        "\n",
        "**Nuestra tarea :** Elevar una lista de números al cuadrado.\n",
        "```python\n",
        "x = [1, 2, 3, 4, 5, 6, 7, 8]\n",
        "```"
      ]
    },
    {
      "cell_type": "markdown",
      "metadata": {
        "id": "rRTlansn4RPM",
        "colab_type": "text"
      },
      "source": [
        "    1. La forma tradicional, no pitónica :"
      ]
    },
    {
      "cell_type": "code",
      "metadata": {
        "id": "PLi9VFCY4RPP",
        "colab_type": "code",
        "outputId": "905cb883-e7c4-412f-cc94-93f877b15ca0",
        "colab": {
          "base_uri": "https://localhost:8080/",
          "height": 52
        }
      },
      "source": [
        "x = [1, 2, 3, 4, 5, 6, 7, 8]\n",
        "y = x.copy()\n",
        "for i in range(len(x)):\n",
        "    y[i] = x[i] ** 2\n",
        "\n",
        "print(x)\n",
        "print(y)"
      ],
      "execution_count": 17,
      "outputs": [
        {
          "output_type": "stream",
          "text": [
            "[1, 2, 3, 4, 5, 6, 7, 8]\n",
            "[1, 4, 9, 16, 25, 36, 49, 64]\n"
          ],
          "name": "stdout"
        }
      ]
    },
    {
      "cell_type": "markdown",
      "metadata": {
        "id": "2jvGs-9o4RPZ",
        "colab_type": "text"
      },
      "source": [
        "2. Una forma más pitónica : "
      ]
    },
    {
      "cell_type": "code",
      "metadata": {
        "id": "5jf9wTzp4RPc",
        "colab_type": "code",
        "outputId": "8bebd792-c134-4027-b046-5cb5b5b87b8b",
        "colab": {
          "base_uri": "https://localhost:8080/",
          "height": 52
        }
      },
      "source": [
        "x = [1, 2, 3, 4, 5, 6, 7, 8]\n",
        "y = [ valor**2 for valor in x ]\n",
        "\n",
        "print(x)\n",
        "print(y)"
      ],
      "execution_count": 18,
      "outputs": [
        {
          "output_type": "stream",
          "text": [
            "[1, 2, 3, 4, 5, 6, 7, 8]\n",
            "[1, 4, 9, 16, 25, 36, 49, 64]\n"
          ],
          "name": "stdout"
        }
      ]
    },
    {
      "cell_type": "markdown",
      "metadata": {
        "id": "s776CJV941Ti",
        "colab_type": "text"
      },
      "source": [
        "3. La forma funcional :"
      ]
    },
    {
      "cell_type": "code",
      "metadata": {
        "id": "WvTGuejO4RPp",
        "colab_type": "code",
        "colab": {
          "base_uri": "https://localhost:8080/",
          "height": 52
        },
        "outputId": "3d5e5074-475f-4a2d-f47f-62b3777ba24a"
      },
      "source": [
        "x = [1, 2, 3, 4, 5, 6, 7, 8]\n",
        "y = list(map(lambda x: x**2, x))\n",
        "\n",
        "print(x)\n",
        "print(y)"
      ],
      "execution_count": 1,
      "outputs": [
        {
          "output_type": "stream",
          "text": [
            "[1, 2, 3, 4, 5, 6, 7, 8]\n",
            "[1, 4, 9, 16, 25, 36, 49, 64]\n"
          ],
          "name": "stdout"
        }
      ]
    },
    {
      "cell_type": "markdown",
      "metadata": {
        "id": "RjKemaOeAsPy",
        "colab_type": "text"
      },
      "source": [
        "¿Por qué tuvimos que hacer ``` list(map(...)) ``` en vez de sólo ``` map(...) ```? Porque map crea un iterador que va generando los elementos mientras se los vamos pidiendo. En este caso la función (constructor)  ```list()``` crea una lista a partir del iterador."
      ]
    },
    {
      "cell_type": "code",
      "metadata": {
        "id": "xrle_V0W5EE3",
        "colab_type": "code",
        "colab": {
          "base_uri": "https://localhost:8080/",
          "height": 52
        },
        "outputId": "766db708-3a6e-4861-96f2-ebbeea5a6294"
      },
      "source": [
        "x = [1, 2, 3, 4, 5, 6, 7, 8]\n",
        "y = [*map(lambda x: x**2, x)]\n",
        "\n",
        "print(x)\n",
        "print(y)"
      ],
      "execution_count": 3,
      "outputs": [
        {
          "output_type": "stream",
          "text": [
            "[1, 2, 3, 4, 5, 6, 7, 8]\n",
            "[1, 4, 9, 16, 25, 36, 49, 64]\n"
          ],
          "name": "stdout"
        }
      ]
    },
    {
      "cell_type": "markdown",
      "metadata": {
        "id": "aTV-EWyOQ_yg",
        "colab_type": "text"
      },
      "source": [
        "También podemos utilizar funciones que toman más de un argumento, aplicándolas elemento a elemento.\n",
        "\n"
      ]
    },
    {
      "cell_type": "code",
      "metadata": {
        "id": "Pwb1KxV8Q2Y-",
        "colab_type": "code",
        "colab": {
          "base_uri": "https://localhost:8080/",
          "height": 34
        },
        "outputId": "39b7be62-2795-40b3-af51-15bbf341a0a0"
      },
      "source": [
        "list(map(lambda x, y: x - y, [1, 2, 3], [4, 5, 6j]))"
      ],
      "execution_count": 10,
      "outputs": [
        {
          "output_type": "execute_result",
          "data": {
            "text/plain": [
              "[-3, -3, (3-6j)]"
            ]
          },
          "metadata": {
            "tags": []
          },
          "execution_count": 10
        }
      ]
    },
    {
      "cell_type": "code",
      "metadata": {
        "id": "hrmq6dJQOUbX",
        "colab_type": "code",
        "colab": {
          "base_uri": "https://localhost:8080/",
          "height": 165
        },
        "outputId": "fdd68d13-f792-49d9-be8e-41dde89c3961"
      },
      "source": [
        ""
      ],
      "execution_count": 9,
      "outputs": [
        {
          "output_type": "error",
          "ename": "TypeError",
          "evalue": "ignored",
          "traceback": [
            "\u001b[0;31m---------------------------------------------------------------------------\u001b[0m",
            "\u001b[0;31mTypeError\u001b[0m                                 Traceback (most recent call last)",
            "\u001b[0;32m<ipython-input-9-92de4e9f6b1e>\u001b[0m in \u001b[0;36m<module>\u001b[0;34m()\u001b[0m\n\u001b[0;32m----> 1\u001b[0;31m \u001b[0mnext\u001b[0m\u001b[0;34m(\u001b[0m\u001b[0mx\u001b[0m\u001b[0;34m)\u001b[0m\u001b[0;34m\u001b[0m\u001b[0;34m\u001b[0m\u001b[0m\n\u001b[0m",
            "\u001b[0;31mTypeError\u001b[0m: <lambda>() takes 1 positional argument but 2 were given"
          ]
        }
      ]
    },
    {
      "cell_type": "code",
      "metadata": {
        "id": "2idtIVZYRdxN",
        "colab_type": "code",
        "colab": {}
      },
      "source": [
        ""
      ],
      "execution_count": 0,
      "outputs": []
    }
  ]
}